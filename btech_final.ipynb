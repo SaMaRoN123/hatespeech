{
 "cells": [
  {
   "cell_type": "code",
   "execution_count": 12,
   "id": "eff52fae",
   "metadata": {},
   "outputs": [
    {
     "name": "stderr",
     "output_type": "stream",
     "text": [
      "Some weights of BertForSequenceClassification were not initialized from the model checkpoint at bert-base-uncased and are newly initialized: ['classifier.bias', 'classifier.weight']\n",
      "You should probably TRAIN this model on a down-stream task to be able to use it for predictions and inference.\n"
     ]
    },
    {
     "name": "stdout",
     "output_type": "stream",
     "text": [
      "Text: I will rape you - Classification: Hate Speech\n",
      "Text: old ankit was best - Classification: Hate Speech\n",
      "Text: Season 5 nhi hogi kya 😢 - Classification: Not Hate Speech\n",
      "Text: Please season 5 banav - Classification: Not Hate Speech\n",
      "Text: 8743891585 raliye na phn mila liye bta dunga kit ana. 🙏 - Classification: Not Hate Speech\n",
      "Text: @sudipta.ds_78 it's DOPA 🙏😁 - Classification: Not Hate Speech\n",
      "Text: JhantOO Supremacy 👏❤️🔥 - Classification: Not Hate Speech\n",
      "Text: yoo - Classification: Not Hate Speech\n",
      "Text: Bhai  to jhatu k he fan hu 🫂🫂 - Classification: Not Hate Speech\n",
      "Text: Jhatu and jaat 😍 - Classification: Hate Speech\n",
      "Text: Jhatoo bhaiya ek din apke saath mein bhi webseries bnaunga - Classification: Not Hate Speech\n"
     ]
    }
   ],
   "source": [
    "import torch\n",
    "from transformers import BertTokenizer, BertForSequenceClassification\n",
    "from torch.nn.functional import softmax\n",
    "import csv\n",
    "import os\n",
    "import glob\n",
    "\n",
    "model_name = \"bert-base-uncased\"\n",
    "tokenizer = BertTokenizer.from_pretrained(model_name)\n",
    "model = BertForSequenceClassification.from_pretrained(model_name, num_labels=2)  # 2 classes: hate speech and not hate speech\n",
    "\n",
    "# Define a function for classification\n",
    "def classify_text(text):\n",
    "    inputs = tokenizer(text, padding=True, truncation=True, return_tensors=\"pt\")\n",
    "    outputs = model(**inputs)\n",
    "    logits = outputs.logits\n",
    "    probabilities = softmax(logits, dim=1)\n",
    "    predicted_class = torch.argmax(probabilities, dim=1).item()\n",
    "\n",
    "    if predicted_class == 0:\n",
    "        return \"Hate Speech\"\n",
    "    else:\n",
    "        return \"Not Hate Speech\"\n",
    "\n",
    "# Function to process the CSV file\n",
    "def process_csv_file(file_path):\n",
    "    with open(file_path, mode='r', encoding='utf-8') as file:\n",
    "        csv_reader = csv.DictReader(file)\n",
    "        for row in csv_reader:\n",
    "            text = row[\"text\"]\n",
    "            classification = classify_text(text)\n",
    "            print(f\"Text: {text} - Classification: {classification}\")\n",
    "\n",
    "# Specify the directory where the downloads are stored\n",
    "download_directory = r'C:\\Users\\srija\\Downloads'  # Replace with the path to your Downloads directory\n",
    "\n",
    "# Find the latest downloaded CSV file in the directory\n",
    "list_of_files = glob.glob(os.path.join(download_directory, '*.csv'))\n",
    "latest_file = max(list_of_files, key=os.path.getctime)\n",
    "\n",
    "# Process the latest CSV file\n",
    "process_csv_file(latest_file)\n"
   ]
  },
  {
   "cell_type": "code",
   "execution_count": null,
   "id": "39903666",
   "metadata": {},
   "outputs": [],
   "source": []
  }
 ],
 "metadata": {
  "kernelspec": {
   "display_name": "Python 3 (ipykernel)",
   "language": "python",
   "name": "python3"
  },
  "language_info": {
   "codemirror_mode": {
    "name": "ipython",
    "version": 3
   },
   "file_extension": ".py",
   "mimetype": "text/x-python",
   "name": "python",
   "nbconvert_exporter": "python",
   "pygments_lexer": "ipython3",
   "version": "3.9.13"
  }
 },
 "nbformat": 4,
 "nbformat_minor": 5
}
